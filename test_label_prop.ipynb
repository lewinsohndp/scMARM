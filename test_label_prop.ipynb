{
 "cells": [
  {
   "cell_type": "code",
   "execution_count": 1,
   "metadata": {},
   "outputs": [
    {
     "name": "stderr",
     "output_type": "stream",
     "text": [
      "/home/users/lewinsda/.conda/envs/daniel_thesis_2/lib/python3.9/site-packages/tqdm/auto.py:22: TqdmWarning: IProgress not found. Please update jupyter and ipywidgets. See https://ipywidgets.readthedocs.io/en/stable/user_install.html\n",
      "  from .autonotebook import tqdm as notebook_tqdm\n"
     ]
    }
   ],
   "source": [
    "from sklearn.datasets import make_blobs\n",
    "import torch\n",
    "from torch.utils.data import DataLoader, TensorDataset\n",
    "import random\n",
    "import math\n",
    "from label_prop_arm import LabelProp\n",
    "from sklearn.decomposition import PCA\n",
    "import numpy as np\n",
    "from sklearn.metrics import ConfusionMatrixDisplay\n",
    "import utilities\n",
    "import pandas as pd\n",
    "import test_arm\n",
    "import matplotlib.pyplot as plt"
   ]
  },
  {
   "cell_type": "code",
   "execution_count": 68,
   "metadata": {},
   "outputs": [],
   "source": [
    "datasets = []\n",
    "for i in np.arange(.1,.5,.1):\n",
    "    i = round(i, 5)\n",
    "    file_path = \"simulations/splat_\" + str(i) + \"_de/\"\n",
    "    temp_data = pd.read_csv(file_path + \"counts.csv\", index_col=0)\n",
    "    temp_meta = pd.read_csv(file_path + \"meta.csv\", index_col=0)\n",
    "    temp_X = np.array(temp_data)\n",
    "    temp_y = pd.factorize(temp_meta['Group'], sort=True)[0]\n",
    "    datasets.append((temp_X, temp_y))\n",
    "    "
   ]
  },
  {
   "cell_type": "code",
   "execution_count": 84,
   "metadata": {},
   "outputs": [],
   "source": [
    "maskings = [.6,.7,.8, .9,.95,.99]\n",
    "arm = LabelProp(\"configs/semi_basic_linear.txt\", 5)\n",
    "results = test_arm.test_label_prop(datasets, maskings, arm, epochs=150)"
   ]
  },
  {
   "cell_type": "code",
   "execution_count": 85,
   "metadata": {},
   "outputs": [],
   "source": [
    "results = np.array(results, dtype=object)"
   ]
  },
  {
   "cell_type": "code",
   "execution_count": 86,
   "metadata": {
    "scrolled": true
   },
   "outputs": [
    {
     "data": {
      "text/plain": [
       "array([[[0.6, 0.8299999833106995, array([[402,  13,  13,   3],\n",
       "                                         [ 32, 174,  11,   6],\n",
       "                                         [ 31,  16, 169,   3],\n",
       "                                         [ 24,   9,   9,  85]])],\n",
       "        [0.7, 0.7609999775886536, array([[361,  41,  11,  18],\n",
       "                                         [ 33, 176,   5,   9],\n",
       "                                         [ 27,  25, 137,  30],\n",
       "                                         [ 21,  10,   9,  87]])],\n",
       "        [0.8, 0.7009999752044678, array([[363,  23,  29,  16],\n",
       "                                         [ 58, 135,  20,  10],\n",
       "                                         [ 36,  29, 135,  19],\n",
       "                                         [ 34,  10,  15,  68]])],\n",
       "        [0.9, 0.6000000238418579, array([[309,  38,  60,  24],\n",
       "                                         [ 59, 108,  48,   8],\n",
       "                                         [ 60,  22, 126,  11],\n",
       "                                         [ 39,  16,  15,  57]])],\n",
       "        [0.95, 0.4790000021457672, array([[204,  85,  94,  48],\n",
       "                                          [ 45, 120,  40,  18],\n",
       "                                          [ 40,  51, 114,  14],\n",
       "                                          [ 43,  28,  15,  41]])],\n",
       "        [0.99, 0.23899999260902405, array([[ 70,  89,  17, 255],\n",
       "                                           [ 29,  58,  13, 123],\n",
       "                                           [ 15,  36,  23, 145],\n",
       "                                           [ 13,  20,   6,  88]])]],\n",
       "\n",
       "       [[0.6, 0.9179999828338623, array([[405,  10,  15,   1],\n",
       "                                         [  9, 209,   2,   3],\n",
       "                                         [  7,   2, 205,   5],\n",
       "                                         [ 15,   6,   7,  99]])],\n",
       "        [0.7, 0.8840000033378601, array([[403,  14,  10,   4],\n",
       "                                         [ 16, 195,   7,   5],\n",
       "                                         [ 22,  11, 182,   4],\n",
       "                                         [ 14,   6,   3, 104]])],\n",
       "        [0.8, 0.8320000171661377, array([[393,  19,  13,   6],\n",
       "                                         [ 22, 190,   6,   5],\n",
       "                                         [ 40,  12, 165,   2],\n",
       "                                         [ 20,  14,   9,  84]])],\n",
       "        [0.9, 0.7139999866485596, array([[285,  66,  57,  23],\n",
       "                                         [ 14, 180,  20,   9],\n",
       "                                         [ 20,  12, 177,  10],\n",
       "                                         [ 13,  18,  24,  72]])],\n",
       "        [0.95, 0.5870000123977661, array([[250,  64,  66,  51],\n",
       "                                          [ 24, 148,  31,  20],\n",
       "                                          [ 27,  27, 137,  28],\n",
       "                                          [ 21,  31,  23,  52]])],\n",
       "        [0.99, 0.4259999990463257, array([[292,  21,  93,  25],\n",
       "                                          [121,  23,  68,  11],\n",
       "                                          [ 93,  20,  92,  14],\n",
       "                                          [ 52,   9,  47,  19]])]],\n",
       "\n",
       "       [[0.6, 0.968999981880188, array([[425,   1,   5,   0],\n",
       "                                        [  2, 221,   0,   0],\n",
       "                                        [  3,   4, 212,   0],\n",
       "                                        [  8,   2,   6, 111]])],\n",
       "        [0.7, 0.953000009059906, array([[417,   7,   6,   1],\n",
       "                                        [  9, 208,   5,   1],\n",
       "                                        [  5,   4, 209,   1],\n",
       "                                        [  7,   0,   1, 119]])],\n",
       "        [0.8, 0.9200000166893005, array([[407,  16,   2,   6],\n",
       "                                         [  9, 207,   6,   1],\n",
       "                                         [ 14,  11, 194,   0],\n",
       "                                         [  9,   4,   2, 112]])],\n",
       "        [0.9, 0.8569999933242798, array([[386,  18,  21,   6],\n",
       "                                         [ 17, 192,   9,   5],\n",
       "                                         [ 20,  15, 173,  11],\n",
       "                                         [ 13,   5,   3, 106]])],\n",
       "        [0.95, 0.7279999852180481, array([[358,  52,  13,   8],\n",
       "                                          [ 30, 180,  10,   3],\n",
       "                                          [ 45,  50, 116,   8],\n",
       "                                          [ 29,  18,   6,  74]])],\n",
       "        [0.99, 0.4429999887943268, array([[179,  99,  41, 112],\n",
       "                                          [ 23, 139,  17,  44],\n",
       "                                          [ 25,  76,  50,  68],\n",
       "                                          [ 10,  33,   9,  75]])]],\n",
       "\n",
       "       [[0.6, 0.9940000176429749, array([[431,   0,   0,   0],\n",
       "                                         [  1, 222,   0,   0],\n",
       "                                         [  0,   2, 216,   1],\n",
       "                                         [  0,   1,   1, 125]])],\n",
       "        [0.7, 0.9860000014305115, array([[423,   3,   3,   2],\n",
       "                                         [  2, 221,   0,   0],\n",
       "                                         [  0,   1, 216,   2],\n",
       "                                         [  1,   0,   0, 126]])],\n",
       "        [0.8, 0.9779999852180481, array([[429,   0,   1,   1],\n",
       "                                         [  1, 221,   1,   0],\n",
       "                                         [  4,   4, 210,   1],\n",
       "                                         [  6,   1,   2, 118]])],\n",
       "        [0.9, 0.9290000200271606, array([[398,   7,  19,   7],\n",
       "                                         [  6, 209,   7,   1],\n",
       "                                         [  5,   5, 206,   3],\n",
       "                                         [  7,   3,   1, 116]])],\n",
       "        [0.95, 0.8500000238418579, array([[366,  25,  19,  21],\n",
       "                                          [  8, 206,   5,   4],\n",
       "                                          [ 15,  13, 173,  18],\n",
       "                                          [  8,   8,   6, 105]])],\n",
       "        [0.99, 0.5609999895095825, array([[244,  35, 134,  18],\n",
       "                                          [ 47,  95,  59,  22],\n",
       "                                          [ 26,  15, 151,  27],\n",
       "                                          [ 20,   8,  28,  71]])]]],\n",
       "      dtype=object)"
      ]
     },
     "execution_count": 86,
     "metadata": {},
     "output_type": "execute_result"
    }
   ],
   "source": [
    "results"
   ]
  },
  {
   "cell_type": "code",
   "execution_count": 34,
   "metadata": {},
   "outputs": [
    {
     "data": {
      "text/plain": [
       "array([[0.8, 0.8769999742507935, array([[401,  19,   9,   2],\n",
       "                                        [ 16, 204,   2,   1],\n",
       "                                        [ 31,   2, 175,  11],\n",
       "                                        [ 11,   8,  11,  97]])],\n",
       "       [0.9, 0.8330000042915344, array([[367,  25,  30,   9],\n",
       "                                        [ 12, 198,  12,   1],\n",
       "                                        [ 12,  19, 185,   3],\n",
       "                                        [ 30,  10,   4,  83]])]],\n",
       "      dtype=object)"
      ]
     },
     "execution_count": 34,
     "metadata": {},
     "output_type": "execute_result"
    }
   ],
   "source": [
    "results[0]"
   ]
  },
  {
   "cell_type": "code",
   "execution_count": 72,
   "metadata": {},
   "outputs": [
    {
     "data": {
      "text/plain": [
       "array([0, 0, 0, 0, 0, 0, 1, 1, 1, 1, 1, 1, 2, 2, 2, 2, 2, 2, 3, 3, 3, 3,\n",
       "       3, 3])"
      ]
     },
     "execution_count": 72,
     "metadata": {},
     "output_type": "execute_result"
    }
   ],
   "source": [
    "np.repeat(list(range(len(results))), len(results[0]))"
   ]
  },
  {
   "cell_type": "code",
   "execution_count": 87,
   "metadata": {},
   "outputs": [],
   "source": [
    "results_df = pd.DataFrame({\"dataset\":np.repeat(list(range(len(results))), len(results[0])),\"masking\":results[:,:,0].flatten(), \"accuracy\":results[:,:,1].flatten()})\n",
    "results_df[\"dataset\"] = results_df[\"dataset\"].astype(\"string\")"
   ]
  },
  {
   "cell_type": "code",
   "execution_count": 88,
   "metadata": {},
   "outputs": [
    {
     "data": {
      "text/html": [
       "<div>\n",
       "<style scoped>\n",
       "    .dataframe tbody tr th:only-of-type {\n",
       "        vertical-align: middle;\n",
       "    }\n",
       "\n",
       "    .dataframe tbody tr th {\n",
       "        vertical-align: top;\n",
       "    }\n",
       "\n",
       "    .dataframe thead th {\n",
       "        text-align: right;\n",
       "    }\n",
       "</style>\n",
       "<table border=\"1\" class=\"dataframe\">\n",
       "  <thead>\n",
       "    <tr style=\"text-align: right;\">\n",
       "      <th></th>\n",
       "      <th>dataset</th>\n",
       "      <th>masking</th>\n",
       "      <th>accuracy</th>\n",
       "    </tr>\n",
       "  </thead>\n",
       "  <tbody>\n",
       "    <tr>\n",
       "      <th>0</th>\n",
       "      <td>0</td>\n",
       "      <td>0.6</td>\n",
       "      <td>0.83</td>\n",
       "    </tr>\n",
       "    <tr>\n",
       "      <th>1</th>\n",
       "      <td>0</td>\n",
       "      <td>0.7</td>\n",
       "      <td>0.761</td>\n",
       "    </tr>\n",
       "    <tr>\n",
       "      <th>2</th>\n",
       "      <td>0</td>\n",
       "      <td>0.8</td>\n",
       "      <td>0.701</td>\n",
       "    </tr>\n",
       "    <tr>\n",
       "      <th>3</th>\n",
       "      <td>0</td>\n",
       "      <td>0.9</td>\n",
       "      <td>0.6</td>\n",
       "    </tr>\n",
       "    <tr>\n",
       "      <th>4</th>\n",
       "      <td>0</td>\n",
       "      <td>0.95</td>\n",
       "      <td>0.479</td>\n",
       "    </tr>\n",
       "    <tr>\n",
       "      <th>5</th>\n",
       "      <td>0</td>\n",
       "      <td>0.99</td>\n",
       "      <td>0.239</td>\n",
       "    </tr>\n",
       "    <tr>\n",
       "      <th>6</th>\n",
       "      <td>1</td>\n",
       "      <td>0.6</td>\n",
       "      <td>0.918</td>\n",
       "    </tr>\n",
       "    <tr>\n",
       "      <th>7</th>\n",
       "      <td>1</td>\n",
       "      <td>0.7</td>\n",
       "      <td>0.884</td>\n",
       "    </tr>\n",
       "    <tr>\n",
       "      <th>8</th>\n",
       "      <td>1</td>\n",
       "      <td>0.8</td>\n",
       "      <td>0.832</td>\n",
       "    </tr>\n",
       "    <tr>\n",
       "      <th>9</th>\n",
       "      <td>1</td>\n",
       "      <td>0.9</td>\n",
       "      <td>0.714</td>\n",
       "    </tr>\n",
       "    <tr>\n",
       "      <th>10</th>\n",
       "      <td>1</td>\n",
       "      <td>0.95</td>\n",
       "      <td>0.587</td>\n",
       "    </tr>\n",
       "    <tr>\n",
       "      <th>11</th>\n",
       "      <td>1</td>\n",
       "      <td>0.99</td>\n",
       "      <td>0.426</td>\n",
       "    </tr>\n",
       "    <tr>\n",
       "      <th>12</th>\n",
       "      <td>2</td>\n",
       "      <td>0.6</td>\n",
       "      <td>0.969</td>\n",
       "    </tr>\n",
       "    <tr>\n",
       "      <th>13</th>\n",
       "      <td>2</td>\n",
       "      <td>0.7</td>\n",
       "      <td>0.953</td>\n",
       "    </tr>\n",
       "    <tr>\n",
       "      <th>14</th>\n",
       "      <td>2</td>\n",
       "      <td>0.8</td>\n",
       "      <td>0.92</td>\n",
       "    </tr>\n",
       "    <tr>\n",
       "      <th>15</th>\n",
       "      <td>2</td>\n",
       "      <td>0.9</td>\n",
       "      <td>0.857</td>\n",
       "    </tr>\n",
       "    <tr>\n",
       "      <th>16</th>\n",
       "      <td>2</td>\n",
       "      <td>0.95</td>\n",
       "      <td>0.728</td>\n",
       "    </tr>\n",
       "    <tr>\n",
       "      <th>17</th>\n",
       "      <td>2</td>\n",
       "      <td>0.99</td>\n",
       "      <td>0.443</td>\n",
       "    </tr>\n",
       "    <tr>\n",
       "      <th>18</th>\n",
       "      <td>3</td>\n",
       "      <td>0.6</td>\n",
       "      <td>0.994</td>\n",
       "    </tr>\n",
       "    <tr>\n",
       "      <th>19</th>\n",
       "      <td>3</td>\n",
       "      <td>0.7</td>\n",
       "      <td>0.986</td>\n",
       "    </tr>\n",
       "    <tr>\n",
       "      <th>20</th>\n",
       "      <td>3</td>\n",
       "      <td>0.8</td>\n",
       "      <td>0.978</td>\n",
       "    </tr>\n",
       "    <tr>\n",
       "      <th>21</th>\n",
       "      <td>3</td>\n",
       "      <td>0.9</td>\n",
       "      <td>0.929</td>\n",
       "    </tr>\n",
       "    <tr>\n",
       "      <th>22</th>\n",
       "      <td>3</td>\n",
       "      <td>0.95</td>\n",
       "      <td>0.85</td>\n",
       "    </tr>\n",
       "    <tr>\n",
       "      <th>23</th>\n",
       "      <td>3</td>\n",
       "      <td>0.99</td>\n",
       "      <td>0.561</td>\n",
       "    </tr>\n",
       "  </tbody>\n",
       "</table>\n",
       "</div>"
      ],
      "text/plain": [
       "   dataset masking accuracy\n",
       "0        0     0.6     0.83\n",
       "1        0     0.7    0.761\n",
       "2        0     0.8    0.701\n",
       "3        0     0.9      0.6\n",
       "4        0    0.95    0.479\n",
       "5        0    0.99    0.239\n",
       "6        1     0.6    0.918\n",
       "7        1     0.7    0.884\n",
       "8        1     0.8    0.832\n",
       "9        1     0.9    0.714\n",
       "10       1    0.95    0.587\n",
       "11       1    0.99    0.426\n",
       "12       2     0.6    0.969\n",
       "13       2     0.7    0.953\n",
       "14       2     0.8     0.92\n",
       "15       2     0.9    0.857\n",
       "16       2    0.95    0.728\n",
       "17       2    0.99    0.443\n",
       "18       3     0.6    0.994\n",
       "19       3     0.7    0.986\n",
       "20       3     0.8    0.978\n",
       "21       3     0.9    0.929\n",
       "22       3    0.95     0.85\n",
       "23       3    0.99    0.561"
      ]
     },
     "execution_count": 88,
     "metadata": {},
     "output_type": "execute_result"
    }
   ],
   "source": [
    "results_df"
   ]
  },
  {
   "cell_type": "code",
   "execution_count": 91,
   "metadata": {},
   "outputs": [
    {
     "data": {
      "image/png": "[encoded data removed]",
      "text/plain": [
       "<Figure size 432x288 with 2 Axes>"
      ]
     },
     "metadata": {
      "needs_background": "light"
     },
     "output_type": "display_data"
    }
   ],
   "source": [
    "plt.scatter(results_df['dataset'], results_df['accuracy'], c=results_df['masking'], cmap=plt.cm.viridis)\n",
    "plt.xlabel(\"Dataset\")\n",
    "plt.ylabel(\"Accuracy after training 150 epochs\")\n",
    "clb = plt.colorbar()\n",
    "clb.ax.set_title('Masking %')\n",
    "plt.title(\"Label Propagation by Dataset: n=5\")\n",
    "plt.grid(axis=\"y\")\n",
    "plt.savefig(\"n=5.pdf\", format=\"pdf\")"
   ]
  }
 ],
 "metadata": {
  "kernelspec": {
   "display_name": "daniel_thesis",
   "language": "python",
   "name": "daniel_thesis_2"
  },
  "language_info": {
   "codemirror_mode": {
    "name": "ipython",
    "version": 3
   },
   "file_extension": ".py",
   "mimetype": "text/x-python",
   "name": "python",
   "nbconvert_exporter": "python",
   "pygments_lexer": "ipython3",
   "version": "3.9.7"
  },
  "vscode": {
   "interpreter": {
    "hash": "9e461d02738fd757bc3d2933f9434d370f54d79aa7bbf71ca755487c9a10e111"
   }
  }
 },
 "nbformat": 4,
 "nbformat_minor": 2
}
