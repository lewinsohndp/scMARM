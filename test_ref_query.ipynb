{
 "cells": [
  {
   "cell_type": "code",
   "execution_count": 1,
   "metadata": {},
   "outputs": [],
   "source": [
    "from ref_query_arm import RefQueryArm\n",
    "import torch\n",
    "import numpy as np\n",
    "import pandas as pd\n",
    "import matplotlib.pyplot as plt\n",
    "import utilities"
   ]
  },
  {
   "cell_type": "code",
   "execution_count": 2,
   "metadata": {},
   "outputs": [],
   "source": [
    "datasets = []\n",
    "for i in np.arange(.4,.5,.1):\n",
    "    i = round(i, 5)\n",
    "    file_path = \"simulations/splat_\" + str(i) + \"_de/\"\n",
    "    temp_data = pd.read_csv(file_path + \"counts.csv\", index_col=0)\n",
    "    temp_meta = pd.read_csv(file_path + \"meta.csv\", index_col=0)\n",
    "    temp_X = np.array(temp_data)\n",
    "    temp_y = pd.factorize(temp_meta['Group'], sort=True)[0]\n",
    "    datasets.append((temp_X, temp_y))"
   ]
  },
  {
   "cell_type": "code",
   "execution_count": 62,
   "metadata": {},
   "outputs": [
    {
     "data": {
      "text/plain": [
       "219"
      ]
     },
     "execution_count": 62,
     "metadata": {},
     "output_type": "execute_result"
    }
   ],
   "source": [
    "labels = datasets[0][1]\n",
    "len(labels[labels==2])"
   ]
  },
  {
   "cell_type": "code",
   "execution_count": 55,
   "metadata": {},
   "outputs": [],
   "source": [
    "ref_X = datasets[0][0][:500,:]\n",
    "ref_y = datasets[0][1][:500]\n",
    "\n",
    "query_X = datasets[0][0][500:,:]\n",
    "query_y = datasets[0][1][500:]\n",
    "\n",
    "ref_X = utilities.preprocess(ref_X, scale=False)\n",
    "query_X = utilities.preprocess(query_X, scale=False)\n",
    "query_y, query_y_masked = utilities.mask_labels(query_y, 0)"
   ]
  },
  {
   "cell_type": "code",
   "execution_count": 36,
   "metadata": {},
   "outputs": [
    {
     "data": {
      "text/plain": [
       "215"
      ]
     },
     "execution_count": 36,
     "metadata": {},
     "output_type": "execute_result"
    }
   ],
   "source": []
  },
  {
   "cell_type": "code",
   "execution_count": 56,
   "metadata": {},
   "outputs": [],
   "source": [
    "ref_dataset = torch.utils.data.TensorDataset(torch.tensor(ref_X), torch.tensor(ref_y))\n",
    "query_train_dataset = torch.utils.data.TensorDataset(torch.tensor(query_X), torch.tensor(query_y_masked))\n",
    "query_test_dataset = torch.utils.data.TensorDataset(torch.tensor(query_X), torch.tensor(query_y))\n",
    "\n",
    "ref_dataloader = torch.utils.data.DataLoader(ref_dataset, batch_size=35, shuffle=True)\n",
    "ref_test_dataloader = torch.utils.data.DataLoader(ref_dataset, batch_size=35, shuffle=False)\n",
    "query_train_dataloader = torch.utils.data.DataLoader(query_train_dataset, batch_size=35, shuffle=True)\n",
    "query_test_dataloader = torch.utils.data.DataLoader(query_test_dataset, batch_size=35, shuffle=False)"
   ]
  },
  {
   "cell_type": "code",
   "execution_count": 59,
   "metadata": {},
   "outputs": [],
   "source": [
    "arm = RefQueryArm(\"configs/semi_basic_linear.txt\", 2, 1)"
   ]
  },
  {
   "cell_type": "code",
   "execution_count": 60,
   "metadata": {},
   "outputs": [
    {
     "name": "stdout",
     "output_type": "stream",
     "text": [
      "Loss in epoch 0 = 21.183672\n"
     ]
    }
   ],
   "source": [
    "arm.train(ref_dataloader, query_train_dataloader, 10)"
   ]
  },
  {
   "cell_type": "code",
   "execution_count": 52,
   "metadata": {},
   "outputs": [
    {
     "name": "stdout",
     "output_type": "stream",
     "text": [
      "tensor([1, 0, 2, 2, 0, 2, 0, 3, 2, 1, 1, 0, 1, 1, 0, 3, 0, 0, 0, 1, 0, 0, 1, 0,\n",
      "        2, 3, 0, 1, 1, 2, 0, 1, 3, 0, 0, 0, 3, 3, 0, 2, 3, 0, 1, 2, 0, 0, 1, 0,\n",
      "        3, 0, 0, 0, 0, 0, 3, 0, 2, 0, 0, 2, 3, 3, 2, 1, 0, 0, 0, 0, 3, 0, 2, 1,\n",
      "        2, 2, 0, 1, 1, 3, 2, 2, 1, 2, 0, 2, 1, 0, 0, 0, 2, 0, 0, 2, 0, 1, 1, 0,\n",
      "        1, 1, 0, 0, 2, 0, 0, 1, 2, 2, 1, 2, 2, 2, 2, 2, 0, 0, 0, 1, 0, 3, 2, 3,\n",
      "        2, 0, 1, 0, 0, 0, 0, 0, 0, 3, 0, 2, 0, 2, 3, 2, 2, 1, 0, 0, 0, 0, 2, 3,\n",
      "        2, 0, 0, 3, 1, 3, 2, 2, 0, 1, 2, 1, 3, 0, 0, 0, 1, 2, 0, 2, 0, 0, 3, 0,\n",
      "        0, 1, 3, 0, 1, 3, 0, 3, 2, 2, 0, 2, 2, 0, 3, 0, 0, 2, 0, 0, 0, 0, 2, 3,\n",
      "        1, 2, 1, 2, 0, 1, 1, 2, 1, 0, 0, 2, 0, 0, 0, 0, 1, 0, 0, 0, 2, 0, 0, 1,\n",
      "        1, 0, 2, 1, 1, 0, 0, 1, 2, 0, 0, 0, 3, 2, 3, 1, 1, 0, 3, 0, 0, 3, 0, 3,\n",
      "        0, 2, 0, 0, 0, 0, 3, 1, 2, 2, 1, 3, 0, 2, 1, 3, 0, 1, 2, 3, 3, 1, 1, 1,\n",
      "        0, 2, 0, 1, 0, 2, 2, 1, 2, 3, 2, 0, 3, 1, 0, 1, 3, 0, 3, 1, 2, 0, 0, 1,\n",
      "        1, 0, 0, 0, 2, 0, 2, 2, 0, 0, 0, 3, 1, 0, 0, 2, 1, 0, 1, 2, 0, 0, 1, 2,\n",
      "        2, 1, 0, 1, 2, 3, 3, 0, 1, 2, 2, 0, 0, 0, 0, 1, 3, 0, 1, 0, 0, 0, 2, 0,\n",
      "        0, 0, 2, 3, 0, 0, 1, 0, 0, 2, 2, 0, 0, 0, 2, 3, 2, 1, 2, 2, 0, 3, 2, 0,\n",
      "        0, 1, 0, 1, 1, 0, 1, 1, 3, 0, 1, 3, 3, 0, 2, 3, 0, 0, 0, 3, 1, 0, 0, 0,\n",
      "        0, 1, 0, 3, 3, 0, 2, 0, 2, 2, 0, 1, 0, 0, 1, 0, 0, 2, 0, 0, 3, 3, 0, 0,\n",
      "        1, 0, 2, 1, 1, 1, 0, 3, 2, 3, 0, 1, 2, 0, 2, 1, 1, 1, 0, 0, 2, 1, 0, 0,\n",
      "        0, 2, 1, 1, 0, 3, 3, 3, 0, 0, 0, 3, 2, 0, 0, 2, 0, 2, 1, 3, 1, 0, 1, 2,\n",
      "        1, 0, 3, 2, 0, 0, 3, 2, 0, 2, 1, 0, 2, 0, 0, 2, 0, 2, 0, 0, 0, 1, 3, 2,\n",
      "        0, 0, 1, 1, 2, 1, 2, 0, 0, 0, 2, 1, 0, 0, 1, 0, 1, 1, 1, 2])\n",
      "tensor([1, 0, 2, 2, 0, 2, 0, 3, 2, 1, 1, 0, 1, 1, 0, 3, 0, 0, 0, 1, 0, 0, 1, 0,\n",
      "        2, 3, 0, 1, 1, 2, 0, 1, 3, 0, 0, 0, 3, 3, 0, 2, 3, 0, 1, 2, 0, 0, 1, 0,\n",
      "        3, 0, 0, 0, 0, 0, 3, 0, 2, 0, 0, 2, 3, 3, 2, 1, 0, 0, 0, 0, 3, 0, 2, 1,\n",
      "        2, 2, 0, 1, 1, 3, 2, 2, 1, 2, 0, 2, 1, 0, 0, 0, 2, 0, 0, 2, 0, 1, 1, 0,\n",
      "        1, 1, 0, 0, 2, 0, 0, 1, 2, 2, 1, 2, 2, 2, 2, 2, 0, 0, 0, 1, 0, 3, 2, 3,\n",
      "        2, 0, 1, 0, 0, 0, 0, 0, 0, 3, 0, 2, 0, 2, 3, 2, 2, 1, 0, 0, 0, 0, 2, 3,\n",
      "        2, 0, 0, 3, 1, 3, 2, 2, 0, 1, 2, 1, 3, 0, 0, 0, 1, 2, 0, 2, 0, 0, 3, 0,\n",
      "        0, 1, 3, 0, 1, 3, 0, 3, 2, 2, 0, 2, 2, 0, 3, 0, 0, 2, 0, 0, 0, 0, 2, 3,\n",
      "        1, 2, 1, 2, 0, 1, 1, 2, 1, 0, 0, 2, 0, 0, 0, 0, 1, 0, 0, 0, 2, 0, 0, 1,\n",
      "        1, 0, 2, 1, 1, 0, 0, 1, 2, 0, 0, 0, 3, 2, 3, 1, 1, 0, 3, 0, 0, 3, 0, 3,\n",
      "        0, 2, 0, 0, 0, 0, 3, 1, 2, 2, 1, 3, 0, 2, 1, 3, 0, 1, 2, 3, 3, 1, 1, 1,\n",
      "        0, 2, 0, 1, 0, 2, 2, 1, 2, 3, 2, 0, 3, 1, 0, 1, 3, 0, 3, 1, 2, 0, 0, 1,\n",
      "        1, 0, 0, 0, 2, 0, 2, 2, 0, 0, 0, 3, 1, 0, 0, 2, 1, 0, 1, 2, 0, 0, 1, 2,\n",
      "        2, 1, 0, 1, 2, 3, 3, 0, 1, 2, 2, 0, 0, 0, 0, 1, 3, 0, 1, 0, 0, 0, 2, 0,\n",
      "        0, 0, 2, 3, 0, 0, 1, 0, 0, 2, 2, 0, 0, 0, 2, 3, 2, 1, 2, 2, 0, 3, 2, 0,\n",
      "        0, 1, 0, 1, 1, 0, 1, 1, 3, 0, 1, 3, 3, 0, 2, 3, 0, 0, 0, 3, 1, 0, 0, 0,\n",
      "        0, 1, 0, 3, 3, 0, 2, 0, 2, 2, 0, 1, 0, 0, 1, 0, 0, 2, 0, 0, 3, 3, 0, 0,\n",
      "        1, 0, 2, 1, 1, 1, 0, 3, 2, 3, 0, 1, 2, 0, 2, 1, 1, 1, 0, 0, 2, 1, 0, 0,\n",
      "        0, 2, 1, 1, 0, 3, 3, 3, 0, 0, 0, 3, 2, 0, 0, 2, 0, 2, 1, 3, 1, 0, 1, 2,\n",
      "        1, 0, 3, 2, 0, 0, 3, 2, 0, 2, 1, 0, 2, 0, 0, 2, 0, 2, 0, 0, 0, 1, 3, 2,\n",
      "        0, 0, 1, 1, 2, 1, 2, 0, 0, 0, 2, 1, 0, 0, 1, 0, 1, 1, 1, 2])\n"
     ]
    },
    {
     "data": {
      "text/plain": [
       "(1.0,\n",
       " array([[216,   0,   0,   0],\n",
       "        [  0, 106,   0,   0],\n",
       "        [  0,   0, 111,   0],\n",
       "        [  0,   0,   0,  67]]),\n",
       " 0.593999981880188,\n",
       " array([[215,   0,   0,   0],\n",
       "        [  1,  10, 106,   0],\n",
       "        [  0,  96,  12,   0],\n",
       "        [  0,   0,   0,  60]]))"
      ]
     },
     "execution_count": 52,
     "metadata": {},
     "output_type": "execute_result"
    }
   ],
   "source": [
    "arm.validation_metrics(ref_test_dataloader, query_test_dataloader)"
   ]
  },
  {
   "cell_type": "code",
   "execution_count": 38,
   "metadata": {},
   "outputs": [
    {
     "name": "stdout",
     "output_type": "stream",
     "text": [
      "216\n",
      "106\n",
      "111\n",
      "67\n",
      "215\n",
      "117\n",
      "108\n",
      "60\n"
     ]
    }
   ],
   "source": [
    "print(len(ref_y[ref_y==0]))\n",
    "print(len(ref_y[ref_y==1]))\n",
    "print(len(ref_y[ref_y==2]))\n",
    "print(len(ref_y[ref_y==3]))\n",
    "print(len(query_y[query_y==0]))\n",
    "print(len(query_y[query_y==1]))\n",
    "print(len(query_y[query_y==2]))\n",
    "print(len(query_y[query_y==3]))"
   ]
  },
  {
   "cell_type": "code",
   "execution_count": 6,
   "metadata": {},
   "outputs": [
    {
     "name": "stdout",
     "output_type": "stream",
     "text": [
      "tensor([0, 0, 3])\n"
     ]
    },
    {
     "data": {
      "text/plain": [
       "(0.6666666865348816,\n",
       " array([[2, 0, 0],\n",
       "        [0, 0, 1],\n",
       "        [0, 0, 0]]),\n",
       " 0.0,\n",
       " array([[0, 1],\n",
       "        [0, 0]]))"
      ]
     },
     "execution_count": 6,
     "metadata": {},
     "output_type": "execute_result"
    }
   ],
   "source": [
    "query_preds = torch.tensor([[1,0,0,0],[1,0,0,0],[0,0,0,1]])\n",
    "query_y = torch.tensor([0,0,2])\n",
    "\n",
    "ref_preds = torch.tensor([[0,1,0,0]])\n",
    "ref_y = torch.tensor([0])\n",
    "\n",
    "\n",
    "\n",
    "arm.validation_metrics_test(query_preds, ref_preds, query_y, ref_y)"
   ]
  }
 ],
 "metadata": {
  "kernelspec": {
   "display_name": "Python 3.9.7 ('thesis')",
   "language": "python",
   "name": "python3"
  },
  "language_info": {
   "codemirror_mode": {
    "name": "ipython",
    "version": 3
   },
   "file_extension": ".py",
   "mimetype": "text/x-python",
   "name": "python",
   "nbconvert_exporter": "python",
   "pygments_lexer": "ipython3",
   "version": "3.9.7"
  },
  "orig_nbformat": 4,
  "vscode": {
   "interpreter": {
    "hash": "9e461d02738fd757bc3d2933f9434d370f54d79aa7bbf71ca755487c9a10e111"
   }
  }
 },
 "nbformat": 4,
 "nbformat_minor": 2
}
